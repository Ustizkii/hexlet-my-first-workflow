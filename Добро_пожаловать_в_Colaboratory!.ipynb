{
  "cells": [
    {
      "cell_type": "markdown",
      "metadata": {
        "id": "view-in-github",
        "colab_type": "text"
      },
      "source": [
        "<a href=\"https://colab.research.google.com/github/Ustizkii/hexlet-my-first-workflow/blob/master/%D0%94%D0%BE%D0%B1%D1%80%D0%BE_%D0%BF%D0%BE%D0%B6%D0%B0%D0%BB%D0%BE%D0%B2%D0%B0%D1%82%D1%8C_%D0%B2_Colaboratory!.ipynb\" target=\"_parent\"><img src=\"https://colab.research.google.com/assets/colab-badge.svg\" alt=\"Open In Colab\"/></a>"
      ]
    },
    {
      "cell_type": "markdown",
      "source": [
        "# Functions. Positional Arguments"
      ],
      "metadata": {
        "id": "DqcfYGQCHWik"
      }
    },
    {
      "cell_type": "code",
      "source": [
        "def add(x, y):\n",
        "  return x + y"
      ],
      "metadata": {
        "id": "PwYH99ralxRI"
      },
      "execution_count": null,
      "outputs": []
    },
    {
      "cell_type": "code",
      "source": [
        "def f(*args):\n",
        "  print(type(args))\n",
        "  print(args)\n",
        "\n",
        "f()\n",
        "\n",
        "f(1, 'a', None, False)"
      ],
      "metadata": {
        "collapsed": true,
        "colab": {
          "base_uri": "https://localhost:8080/"
        },
        "id": "4OWn6BWGl6PI",
        "outputId": "9b044cb3-9da6-4ce4-8c61-c1f2c39b34f9"
      },
      "execution_count": null,
      "outputs": [
        {
          "output_type": "stream",
          "name": "stdout",
          "text": [
            "<class 'tuple'>\n",
            "()\n",
            "<class 'tuple'>\n",
            "(1, 'a', None, False)\n"
          ]
        }
      ]
    },
    {
      "cell_type": "code",
      "source": [
        "def f(x, *args):\n",
        "  print(f'Первый аргумент: {x}')\n",
        "  for a in args:\n",
        "    print(f'Другой аргумент из *args: {a}!')\n",
        "\n",
        "f('Programming language', 'Python', 'PHP', 'Java')"
      ],
      "metadata": {
        "colab": {
          "base_uri": "https://localhost:8080/"
        },
        "id": "_ZVZL2k9mYfw",
        "outputId": "1af6cd62-c1e2-4096-bc8f-9e1615d30bcc"
      },
      "execution_count": null,
      "outputs": [
        {
          "output_type": "stream",
          "name": "stdout",
          "text": [
            "Первый аргумент: Programming language\n",
            "Другой аргумент из *args: Python!\n",
            "Другой аргумент из *args: PHP!\n",
            "Другой аргумент из *args: Java!\n"
          ]
        }
      ]
    },
    {
      "cell_type": "code",
      "source": [
        "def sum(a, b):\n",
        "  return a + b\n",
        "\n",
        "nums = [3, 4]\n",
        "sum(*nums)"
      ],
      "metadata": {
        "colab": {
          "base_uri": "https://localhost:8080/"
        },
        "id": "pquoHg1inCl1",
        "outputId": "048aca1a-bdb3-41f2-98aa-88ecd29f2650"
      },
      "execution_count": null,
      "outputs": [
        {
          "output_type": "execute_result",
          "data": {
            "text/plain": [
              "7"
            ]
          },
          "metadata": {},
          "execution_count": 15
        }
      ]
    },
    {
      "cell_type": "code",
      "source": [
        "def greet(*names):\n",
        "  for name in names:\n",
        "    print(f'Hello, {name}!')\n",
        "\n",
        "greet(\n",
        "    'Bob', *['Mary', 'Clair'], 'Sam',\n",
        "    *('Henry', 'John')\n",
        ")"
      ],
      "metadata": {
        "colab": {
          "base_uri": "https://localhost:8080/"
        },
        "id": "T87EIBYfnVqc",
        "outputId": "4d211249-5fd9-4c6e-cf26-a846fe672e53"
      },
      "execution_count": null,
      "outputs": [
        {
          "output_type": "stream",
          "name": "stdout",
          "text": [
            "Hello, Bob!\n",
            "Hello, Mary!\n",
            "Hello, Clair!\n",
            "Hello, Sam!\n",
            "Hello, Henry!\n",
            "Hello, John!\n"
          ]
        }
      ]
    },
    {
      "cell_type": "code",
      "source": [
        "def greet(who, *args):\n",
        "  ### Вам нужно реализовать функцию greet(), которая должна принимать несколько\n",
        "  ### имён (как минимум одно!) и возвращать строку приветствия\n",
        "  names = ' and '.join((who,) + args)\n",
        "  return f'Hello, {names}!'\n",
        "\n",
        "greet('Bob')\n",
        "greet('Moe', 'Mary')\n",
        "greet(*'ABC')"
      ],
      "metadata": {
        "colab": {
          "base_uri": "https://localhost:8080/",
          "height": 35
        },
        "id": "e7SuebeNn3bN",
        "outputId": "040c1072-3608-4a37-a8b1-312603d89b3d"
      },
      "execution_count": null,
      "outputs": [
        {
          "output_type": "execute_result",
          "data": {
            "text/plain": [
              "'Hello, A and B and C!'"
            ],
            "application/vnd.google.colaboratory.intrinsic+json": {
              "type": "string"
            }
          },
          "metadata": {},
          "execution_count": 20
        }
      ]
    },
    {
      "cell_type": "markdown",
      "source": [
        "# Functions. Keyword Parameters"
      ],
      "metadata": {
        "id": "Y_KunQfuqeUy"
      }
    },
    {
      "cell_type": "code",
      "source": [
        "def bar(length, char1, char2):\n",
        "  return(char1 + char2) * length + char1\n",
        "\n",
        "print(bar(5, '-', '*'))"
      ],
      "metadata": {
        "colab": {
          "base_uri": "https://localhost:8080/"
        },
        "id": "tio24R-_q0uv",
        "outputId": "0f075e57-c57a-401c-ac46-3aefc46645ce"
      },
      "execution_count": null,
      "outputs": [
        {
          "output_type": "stream",
          "name": "stdout",
          "text": [
            "-*-*-*-*-*-\n"
          ]
        }
      ]
    },
    {
      "cell_type": "code",
      "source": [
        "def bar(length, char1, char2):\n",
        "    return (char1 + char2) * length + char1\n",
        "\n",
        "print(bar(length=3, char1='-', char2='*'))\n",
        "print(bar(char1='-', char2='*', length=3))\n",
        "print(bar(char2='*', length=3, char1='-'))"
      ],
      "metadata": {
        "colab": {
          "base_uri": "https://localhost:8080/"
        },
        "id": "NDyS3Ey4Bns7",
        "outputId": "e2e3623e-3688-4efb-8b45-1044e70c1f1a"
      },
      "execution_count": 1,
      "outputs": [
        {
          "output_type": "stream",
          "name": "stdout",
          "text": [
            "-*-*-*-\n",
            "-*-*-*-\n",
            "-*-*-*-\n"
          ]
        }
      ]
    },
    {
      "cell_type": "code",
      "source": [
        "def bar(length, char1='-', char2='*'):\n",
        "    return (char1 + char2) * length + char1\n",
        "\n",
        "print(bar(5))\n",
        "print(bar(3, '.'))\n",
        "print(bar(2, ':', '|'))\n",
        "print(bar(4, char2='#'))\n",
        "print(bar(char2='$', length=3))\n",
        "print(bar(char2='%', 2))\n",
        "\n",
        "bar(char2='!')"
      ],
      "metadata": {
        "id": "geV3_TJjBytU"
      },
      "execution_count": null,
      "outputs": []
    },
    {
      "cell_type": "code",
      "source": [
        "def f(*args, x=None, y=None):\n",
        "    print('args =', args, ', x =', x, ', y =', y)\n",
        "\n",
        "f(*(1, 2), x='a', *[3, 4], y='b', *(5, 6))"
      ],
      "metadata": {
        "id": "x7P7d3BYCAz5"
      },
      "execution_count": null,
      "outputs": []
    },
    {
      "cell_type": "code",
      "source": [
        "make('circle', 300, 150, 10, None, 2.5, False)\n",
        "\n",
        "make(\n",
        "    shape='circle',\n",
        "    x=300, y=150, radius=10,\n",
        "    line_pattern=None,\n",
        "    line_width=2.5,\n",
        "    fill=False\n",
        ")"
      ],
      "metadata": {
        "id": "yaX2DnI5ChiB"
      },
      "execution_count": null,
      "outputs": []
    },
    {
      "cell_type": "code",
      "source": [
        "def rgb(red=0, green=0, blue=0):\n",
        "  return f'rgb({red}, {green}, {blue})'\n",
        "\n",
        "def get_colors():\n",
        "  return {\n",
        "      'red': rgb(red=255),\n",
        "      'green': rgb(green=255),\n",
        "      'blue': rgb(blue=255),\n",
        "  }"
      ],
      "metadata": {
        "id": "sXsgCydVq27X"
      },
      "execution_count": null,
      "outputs": []
    },
    {
      "cell_type": "markdown",
      "source": [
        "# Functions. More About Keyword Arguments and Parameters"
      ],
      "metadata": {
        "id": "9NHHx-xnKOxV"
      }
    },
    {
      "cell_type": "code",
      "source": [
        "def g(**kwargs):\n",
        "  return kwargs\n",
        "\n",
        "g(x=1, y=2, z=None)"
      ],
      "metadata": {
        "id": "0riLAjCOKhm9"
      },
      "execution_count": null,
      "outputs": []
    },
    {
      "cell_type": "code",
      "source": [
        "def f(*args, **kwargs):\n",
        "  return (args, kwargs)\n",
        "\n",
        "f(1, 2, 3, 4, kx='a', ky='b', kz='c')"
      ],
      "metadata": {
        "id": "_7NBvlafadyk"
      },
      "execution_count": null,
      "outputs": []
    },
    {
      "cell_type": "code",
      "source": [
        "def f(**kwargs, *args):\n",
        "  return (kwargs, args)\n",
        "\n",
        "f(1, kx='a')"
      ],
      "metadata": {
        "id": "o16BhdrvazHR"
      },
      "execution_count": null,
      "outputs": []
    },
    {
      "cell_type": "code",
      "source": [
        "def f(x, *args, **kwargs):\n",
        "    return (x, args, kwargs)\n",
        "\n",
        "f(1, 2, 3, kx='a', ky='b')"
      ],
      "metadata": {
        "id": "7VBNb3-Va7Ox"
      },
      "execution_count": null,
      "outputs": []
    },
    {
      "cell_type": "code",
      "source": [
        "def f(*args, ky=42, **kwargs):\n",
        "    return (args, ky, kwargs)\n",
        "\n",
        "f(1, 2, 3, 4, kz='c')\n",
        "f(1, 2, 3, 4, ky='b', kz='c')"
      ],
      "metadata": {
        "id": "o2eb0XCNa-8p"
      },
      "execution_count": null,
      "outputs": []
    },
    {
      "cell_type": "code",
      "source": [
        "def f(x, y, *args, kx=None, ky=42, **kwargs):\n",
        "    return (x, y, args, kx, ky, kwargs)\n",
        "\n",
        "f(1, 2, 3, 4, kx='a', ky='b', kz='c')"
      ],
      "metadata": {
        "id": "lXzl_HGsbEpi"
      },
      "execution_count": null,
      "outputs": []
    },
    {
      "cell_type": "code",
      "source": [
        "def coords(x, y):\n",
        "    return (x, y)\n",
        "\n",
        "coords(x=1, **{'y': 2})"
      ],
      "metadata": {
        "id": "cL4QcwVhbHfB"
      },
      "execution_count": null,
      "outputs": []
    },
    {
      "cell_type": "code",
      "source": [
        "def f(x, y, *args, kx=None, ky=42, **kwargs):\n",
        "    return (x, y, args, kx, ky, kwargs)\n",
        "\n",
        "positional = (2, 3)\n",
        "named = dict(ky='b', kz='c')\n",
        "f(1, *positional, 4, kx='a', **named)"
      ],
      "metadata": {
        "id": "LFZByeNHbIRh"
      },
      "execution_count": null,
      "outputs": []
    },
    {
      "cell_type": "code",
      "source": [
        "def open_file(name, *, writable=False, binary=False):\n",
        "    …\n",
        "\n",
        "f1 = open_file('foo.txt', writable=True)\n",
        "f2 = open_file('bar.bin', binary=True)\n",
        "f3 = open_file('raw.dat', True, True)"
      ],
      "metadata": {
        "id": "5PIcBxGdbNjJ"
      },
      "execution_count": null,
      "outputs": []
    },
    {
      "cell_type": "code",
      "source": [
        "def my_func(a, *, b=None, **kwargs):\n",
        "    print(a, b, kwargs)\n",
        "\n",
        "my_func(1, b=2, c=3)"
      ],
      "metadata": {
        "id": "zxPEW2d5bQIh"
      },
      "execution_count": null,
      "outputs": []
    },
    {
      "cell_type": "code",
      "source": [
        "def f(x, y, *args, kx=None, ky=42, **kwargs):\n",
        "    return (x, y, args, kx, ky, kwargs)\n",
        "\n",
        "foo = [1, 2, 3]\n",
        "bar = \"abc\"\n",
        "f(kx=42, *foo, ky=100, *bar)"
      ],
      "metadata": {
        "id": "-nETtXwybULp"
      },
      "execution_count": null,
      "outputs": []
    },
    {
      "cell_type": "code",
      "source": [
        "def updated(dictionary, **kwargs):\n",
        "  new = dictionary.copy()\n",
        "  new.update(kwargs)\n",
        "  return new\n",
        "\n",
        "d = {'a': 1, 'b': False}\n",
        "updated(d, a=2, b=True, c=None)"
      ],
      "metadata": {
        "id": "EcBdaxIjrrrB"
      },
      "execution_count": null,
      "outputs": []
    }
  ],
  "metadata": {
    "colab": {
      "name": "Добро пожаловать в Colaboratory!",
      "toc_visible": true,
      "provenance": [],
      "include_colab_link": true
    },
    "kernelspec": {
      "display_name": "Python 3",
      "name": "python3"
    }
  },
  "nbformat": 4,
  "nbformat_minor": 0
}